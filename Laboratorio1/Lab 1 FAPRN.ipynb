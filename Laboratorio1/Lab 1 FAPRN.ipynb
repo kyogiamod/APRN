{
 "cells": [
  {
   "cell_type": "markdown",
   "metadata": {},
   "source": [
    "# Laboratorio 1 de FAPRN: Perceptron simple\n",
    "## Autor: Richard Anthony Torti Castillo\n"
   ]
  },
  {
   "cell_type": "code",
   "execution_count": 1,
   "metadata": {},
   "outputs": [],
   "source": [
    "import random\n",
    "import numpy as np\n",
    "import matplotlib.pyplot as plt\n",
    "import csv\n"
   ]
  },
  {
   "cell_type": "markdown",
   "metadata": {},
   "source": [
    "## Parte 1: Implementación de un perceptrón simple genérico"
   ]
  },
  {
   "cell_type": "markdown",
   "metadata": {},
   "source": [
    "### Función de activación"
   ]
  },
  {
   "cell_type": "code",
   "execution_count": 2,
   "metadata": {},
   "outputs": [],
   "source": [
    "#Inputs:\n",
    "#    rowData: List with inputs (BIAS, x_1, x_2, x_3, x_4)\n",
    "#    weights: Weight associated to each input of rowData\n",
    "#    threshold: if sum of each input * weight is greater than threshold then 1, 0 if not\n",
    "def activation(rowData, weights, threshold):\n",
    "    sum = 0\n",
    "    for x,w in zip(rowData,weights):\n",
    "        sum += x*w\n",
    "    \n",
    "    if sum > threshold:\n",
    "        return 1\n",
    "    return 0"
   ]
  },
  {
   "cell_type": "markdown",
   "metadata": {},
   "source": [
    "##### La función retorna 1 si la sumatoria de las entradas multiplicadas con sus pesos es mayor al thresholder"
   ]
  },
  {
   "cell_type": "markdown",
   "metadata": {},
   "source": [
    "### Función de ajuste de pesos"
   ]
  },
  {
   "cell_type": "code",
   "execution_count": 3,
   "metadata": {},
   "outputs": [],
   "source": [
    "#Inputs:\n",
    "#    data: Matrix with all inputs for each row\n",
    "#    weights= weight of inputs\n",
    "#    iterations: how much times the function run to get the weights adjusted (the more iterations the less error, if the problem converges)\n",
    "def adjustWeight(data, weights, threshold, iterations):\n",
    "    errors = []\n",
    "    for i in range(iterations):\n",
    "        errorIteration = 0\n",
    "        for row in data:\n",
    "            activate = activation(row[0:-1], weights, threshold)\n",
    "            error = row[-1] - activate #Assuming classification in the last \n",
    "            errorIteration += abs(error)\n",
    "\n",
    "            weights = [w + error*value for w,value in zip(weights, row)]\n",
    "        errors.append(errorIteration)\n",
    "        \n",
    "    return weights, errors"
   ]
  },
  {
   "cell_type": "markdown",
   "metadata": {},
   "source": [
    "##### Esta función "
   ]
  },
  {
   "cell_type": "markdown",
   "metadata": {},
   "source": [
    "## Parte 2: Probar las funciones implementadas con compuertas AND, OR y XOR; con 4 entradas"
   ]
  },
  {
   "cell_type": "markdown",
   "metadata": {},
   "source": [
    "### Función lógica AND"
   ]
  },
  {
   "cell_type": "code",
   "execution_count": 4,
   "metadata": {},
   "outputs": [],
   "source": [
    "# Inputs:\n",
    "#    data: Matrix with variables, \n",
    "#    weights: weight of each variable\n",
    "#    threshold: Discriminatory value\n",
    "\n",
    "def logicalAND(data, weights, threshold, iterations):\n",
    "    #Add logical AND output in last position\n",
    "    data = [row + [np.prod(row[1:])]  for row in data]\n",
    "    weights, errors = adjustWeight(data, weights, threshold, iterations)\n",
    "    \n",
    "    plt.plot(errors)\n",
    "    plt.title(\"Error en compuerta AND segun iteraciones\")\n",
    "    plt.ylabel(\"Error\")\n",
    "    plt.xlabel(\"Iteracion\")"
   ]
  },
  {
   "cell_type": "markdown",
   "metadata": {},
   "source": [
    "### Función lógica OR"
   ]
  },
  {
   "cell_type": "code",
   "execution_count": 5,
   "metadata": {},
   "outputs": [],
   "source": [
    "def logicalOR(data, weights, threshold, iterations):\n",
    "    \n",
    "    #Add logical OR output in last position\n",
    "    data = [row + [1 if sum(row[1:])>0 else 0] for row in data]\n",
    "    weights, errors = adjustWeight(data, weights, threshold, iterations)\n",
    "    \n",
    "    plt.plot(errors)\n",
    "    plt.title(\"Error en la compuerta OR segun iteraciones\")\n",
    "    plt.ylabel(\"Error\")\n",
    "    plt.xlabel(\"Iteracion\")"
   ]
  },
  {
   "cell_type": "markdown",
   "metadata": {},
   "source": [
    "### Función lógica XOR"
   ]
  },
  {
   "cell_type": "code",
   "execution_count": 6,
   "metadata": {},
   "outputs": [],
   "source": [
    "def logicalXOR(data, weights, threshold, iterations):\n",
    "    \n",
    "    #Add logical XOR output in last position\n",
    "    data = [row + [0 if sum(row[1:])%2==0 else 1] for row in data]\n",
    "    weights, errors = adjustWeight(data, weights, threshold, iterations)\n",
    "    \n",
    "    plt.plot(errors)\n",
    "    plt.title(\"Error en la compuerta XOR segun iteraciones\")\n",
    "    plt.ylabel(\"Error\")\n",
    "    plt.xlabel(\"Iteracion\")"
   ]
  },
  {
   "cell_type": "markdown",
   "metadata": {},
   "source": [
    "### Comprobación y gráficos de error"
   ]
  },
  {
   "cell_type": "markdown",
   "metadata": {},
   "source": [
    "#### Datos generales"
   ]
  },
  {
   "cell_type": "code",
   "execution_count": 7,
   "metadata": {},
   "outputs": [],
   "source": [
    "#data: matrix of row with every combination of variables and result, adding BIAS\n",
    "#      BIAS x_1 x_2 x_3 x_4\n",
    "data = [[1,  0,  0,  0,  0],\n",
    "        [1,  0,  0,  0,  1],\n",
    "        [1,  0,  0,  1,  0],\n",
    "        [1,  0,  0,  1,  1],\n",
    "        [1,  0,  1,  0,  0],\n",
    "        [1,  0,  1,  0,  1],\n",
    "        [1,  0,  1,  1,  0],\n",
    "        [1,  0,  1,  1,  1],\n",
    "        [1,  1,  0,  0,  0],\n",
    "        [1,  1,  0,  0,  1],\n",
    "        [1,  1,  0,  1,  0],\n",
    "        [1,  1,  0,  1,  1],\n",
    "        [1,  1,  1,  0,  0],\n",
    "        [1,  1,  1,  0,  1],\n",
    "        [1,  1,  1,  1,  0],\n",
    "        [1,  1,  1,  1,  1]]\n",
    "\n",
    "random.seed(0)\n",
    "# Weight with random values, to make the adjustWeight function change it's values\n",
    "weights = [random.randint(1,9) for x in data[0]]\n",
    "threshold = 0\n",
    "iterations = 100"
   ]
  },
  {
   "cell_type": "markdown",
   "metadata": {},
   "source": [
    "#### Compuerta lógica AND"
   ]
  },
  {
   "cell_type": "code",
   "execution_count": 8,
   "metadata": {},
   "outputs": [
    {
     "data": {
      "image/png": "[encoded data removed]",
      "text/plain": [
       "<Figure size 432x288 with 1 Axes>"
      ]
     },
     "metadata": {
      "needs_background": "light"
     },
     "output_type": "display_data"
    }
   ],
   "source": [
    "logicalAND(data, weights, threshold, iterations)"
   ]
  },
  {
   "cell_type": "markdown",
   "metadata": {},
   "source": [
    "##### El grafico muestra que durante la primera iteración existieron más de 12 errores, por lo que de forma práctica significa que hubo aproximadamente "
   ]
  },
  {
   "cell_type": "markdown",
   "metadata": {},
   "source": [
    "#### Compuerta lógica OR"
   ]
  },
  {
   "cell_type": "code",
   "execution_count": 9,
   "metadata": {},
   "outputs": [
    {
     "data": {
      "image/png": "[encoded data removed]",
      "text/plain": [
       "<Figure size 432x288 with 1 Axes>"
      ]
     },
     "metadata": {
      "needs_background": "light"
     },
     "output_type": "display_data"
    }
   ],
   "source": [
    "logicalOR(data, weights, threshold, iterations)"
   ]
  },
  {
   "cell_type": "markdown",
   "metadata": {},
   "source": [
    "#### Compuerta lógica XOR"
   ]
  },
  {
   "cell_type": "code",
   "execution_count": 10,
   "metadata": {},
   "outputs": [
    {
     "data": {
      "image/png": "[encoded data removed]",
      "text/plain": [
       "<Figure size 432x288 with 1 Axes>"
      ]
     },
     "metadata": {
      "needs_background": "light"
     },
     "output_type": "display_data"
    }
   ],
   "source": [
    "logicalXOR(data, weights, threshold, iterations)"
   ]
  },
  {
   "cell_type": "markdown",
   "metadata": {},
   "source": [
    "## Parte 3: Probar perceptrón para el dataset letters.csv"
   ]
  },
  {
   "cell_type": "code",
   "execution_count": 11,
   "metadata": {},
   "outputs": [],
   "source": [
    "def readData():\n",
    "    data = []\n",
    "    with open(\"/Users/kyogia/Desktop/APRN/Laboratorio1/letters.csv\", \"r\") as file:\n",
    "        reader = csv.reader(file)\n",
    "        for row in reader:\n",
    "            try:\n",
    "                data.append([1, float(row[0]), float(row[1]), 1 if row[2]==\"l\" else 0])\n",
    "            except:\n",
    "                continue\n",
    "    file.close()\n",
    "    return data"
   ]
  },
  {
   "cell_type": "code",
   "execution_count": 12,
   "metadata": {},
   "outputs": [],
   "source": [
    "letters = readData()\n"
   ]
  },
  {
   "cell_type": "code",
   "execution_count": 13,
   "metadata": {},
   "outputs": [
    {
     "data": {
      "text/plain": [
       "Text(0.5, 0, 'Iteración')"
      ]
     },
     "execution_count": 13,
     "metadata": {},
     "output_type": "execute_result"
    },
    {
     "data": {
      "image/png": "[encoded data removed]",
      "text/plain": [
       "<Figure size 432x288 with 1 Axes>"
      ]
     },
     "metadata": {
      "needs_background": "light"
     },
     "output_type": "display_data"
    }
   ],
   "source": [
    "weights = [random.randint(1,10) for x in letters[0]]\n",
    "weights, errors = adjustWeight(letters, weights, 50, 100)\n",
    "\n",
    "plt.plot(errors)\n",
    "plt.title(\"Error perceptrón para el dataset letters.csv\")\n",
    "plt.ylabel(\"Errores en la iteración\")\n",
    "plt.xlabel(\"Iteración\")"
   ]
  },
  {
   "cell_type": "code",
   "execution_count": null,
   "metadata": {},
   "outputs": [],
   "source": []
  },
  {
   "cell_type": "code",
   "execution_count": null,
   "metadata": {},
   "outputs": [],
   "source": []
  },
  {
   "cell_type": "code",
   "execution_count": null,
   "metadata": {},
   "outputs": [],
   "source": []
  },
  {
   "cell_type": "code",
   "execution_count": null,
   "metadata": {},
   "outputs": [],
   "source": []
  },
  {
   "cell_type": "code",
   "execution_count": null,
   "metadata": {},
   "outputs": [],
   "source": []
  },
  {
   "cell_type": "code",
   "execution_count": null,
   "metadata": {},
   "outputs": [],
   "source": []
  }
 ],
 "metadata": {
  "kernelspec": {
   "display_name": "Python 3",
   "language": "python",
   "name": "python3"
  },
  "language_info": {
   "codemirror_mode": {
    "name": "ipython",
    "version": 3
   },
   "file_extension": ".py",
   "mimetype": "text/x-python",
   "name": "python",
   "nbconvert_exporter": "python",
   "pygments_lexer": "ipython3",
   "version": "3.7.3"
  }
 },
 "nbformat": 4,
 "nbformat_minor": 2
}
